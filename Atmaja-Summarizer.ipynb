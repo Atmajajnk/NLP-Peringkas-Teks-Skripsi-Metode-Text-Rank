{
  "nbformat": 4,
  "nbformat_minor": 0,
  "metadata": {
    "colab": {
      "provenance": []
    },
    "kernelspec": {
      "name": "python3",
      "display_name": "Python 3"
    },
    "accelerator": "GPU"
  },
  "cells": [
    {
      "cell_type": "markdown",
      "metadata": {
        "id": "EfZQ0bWRJ2gk"
      },
      "source": [
        "# Text Summarization using text rank algorithm"
      ]
    },
    {
      "cell_type": "markdown",
      "metadata": {
        "id": "OtR7wm6qLKz0"
      },
      "source": [
        "# Importing the libraries"
      ]
    },
    {
      "cell_type": "code",
      "metadata": {
        "id": "WeptlGXN2MnF",
        "colab": {
          "base_uri": "https://localhost:8080/"
        },
        "outputId": "259de9f8-cddd-4a1b-d889-e3efb3d7d7b1"
      },
      "source": [
        "import numpy as np\n",
        "import pandas as pd\n",
        "import nltk\n",
        "from nltk.tokenize import sent_tokenize\n",
        "nltk.download('punkt') # one time execution\n",
        "import re"
      ],
      "execution_count": 9,
      "outputs": [
        {
          "output_type": "stream",
          "name": "stderr",
          "text": [
            "[nltk_data] Downloading package punkt to /root/nltk_data...\n",
            "[nltk_data]   Unzipping tokenizers/punkt.zip.\n"
          ]
        }
      ]
    },
    {
      "cell_type": "markdown",
      "metadata": {
        "id": "kMtTRTALLO7n"
      },
      "source": [
        "# Uploading Data"
      ]
    },
    {
      "cell_type": "code",
      "metadata": {
        "id": "z_aSx78ZGpcN",
        "colab": {
          "base_uri": "https://localhost:8080/",
          "height": 73
        },
        "outputId": "2342e0e4-4ed6-4e4c-c0ca-36863e56be64"
      },
      "source": [
        "# Upload the CSV file\n",
        "from google.colab import files\n",
        "uploaded = files.upload()"
      ],
      "execution_count": 10,
      "outputs": [
        {
          "output_type": "display_data",
          "data": {
            "text/plain": [
              "<IPython.core.display.HTML object>"
            ],
            "text/html": [
              "\n",
              "     <input type=\"file\" id=\"files-ed0d83b3-6b10-4024-8703-d4103cf9fa08\" name=\"files[]\" multiple disabled\n",
              "        style=\"border:none\" />\n",
              "     <output id=\"result-ed0d83b3-6b10-4024-8703-d4103cf9fa08\">\n",
              "      Upload widget is only available when the cell has been executed in the\n",
              "      current browser session. Please rerun this cell to enable.\n",
              "      </output>\n",
              "      <script>// Copyright 2017 Google LLC\n",
              "//\n",
              "// Licensed under the Apache License, Version 2.0 (the \"License\");\n",
              "// you may not use this file except in compliance with the License.\n",
              "// You may obtain a copy of the License at\n",
              "//\n",
              "//      http://www.apache.org/licenses/LICENSE-2.0\n",
              "//\n",
              "// Unless required by applicable law or agreed to in writing, software\n",
              "// distributed under the License is distributed on an \"AS IS\" BASIS,\n",
              "// WITHOUT WARRANTIES OR CONDITIONS OF ANY KIND, either express or implied.\n",
              "// See the License for the specific language governing permissions and\n",
              "// limitations under the License.\n",
              "\n",
              "/**\n",
              " * @fileoverview Helpers for google.colab Python module.\n",
              " */\n",
              "(function(scope) {\n",
              "function span(text, styleAttributes = {}) {\n",
              "  const element = document.createElement('span');\n",
              "  element.textContent = text;\n",
              "  for (const key of Object.keys(styleAttributes)) {\n",
              "    element.style[key] = styleAttributes[key];\n",
              "  }\n",
              "  return element;\n",
              "}\n",
              "\n",
              "// Max number of bytes which will be uploaded at a time.\n",
              "const MAX_PAYLOAD_SIZE = 100 * 1024;\n",
              "\n",
              "function _uploadFiles(inputId, outputId) {\n",
              "  const steps = uploadFilesStep(inputId, outputId);\n",
              "  const outputElement = document.getElementById(outputId);\n",
              "  // Cache steps on the outputElement to make it available for the next call\n",
              "  // to uploadFilesContinue from Python.\n",
              "  outputElement.steps = steps;\n",
              "\n",
              "  return _uploadFilesContinue(outputId);\n",
              "}\n",
              "\n",
              "// This is roughly an async generator (not supported in the browser yet),\n",
              "// where there are multiple asynchronous steps and the Python side is going\n",
              "// to poll for completion of each step.\n",
              "// This uses a Promise to block the python side on completion of each step,\n",
              "// then passes the result of the previous step as the input to the next step.\n",
              "function _uploadFilesContinue(outputId) {\n",
              "  const outputElement = document.getElementById(outputId);\n",
              "  const steps = outputElement.steps;\n",
              "\n",
              "  const next = steps.next(outputElement.lastPromiseValue);\n",
              "  return Promise.resolve(next.value.promise).then((value) => {\n",
              "    // Cache the last promise value to make it available to the next\n",
              "    // step of the generator.\n",
              "    outputElement.lastPromiseValue = value;\n",
              "    return next.value.response;\n",
              "  });\n",
              "}\n",
              "\n",
              "/**\n",
              " * Generator function which is called between each async step of the upload\n",
              " * process.\n",
              " * @param {string} inputId Element ID of the input file picker element.\n",
              " * @param {string} outputId Element ID of the output display.\n",
              " * @return {!Iterable<!Object>} Iterable of next steps.\n",
              " */\n",
              "function* uploadFilesStep(inputId, outputId) {\n",
              "  const inputElement = document.getElementById(inputId);\n",
              "  inputElement.disabled = false;\n",
              "\n",
              "  const outputElement = document.getElementById(outputId);\n",
              "  outputElement.innerHTML = '';\n",
              "\n",
              "  const pickedPromise = new Promise((resolve) => {\n",
              "    inputElement.addEventListener('change', (e) => {\n",
              "      resolve(e.target.files);\n",
              "    });\n",
              "  });\n",
              "\n",
              "  const cancel = document.createElement('button');\n",
              "  inputElement.parentElement.appendChild(cancel);\n",
              "  cancel.textContent = 'Cancel upload';\n",
              "  const cancelPromise = new Promise((resolve) => {\n",
              "    cancel.onclick = () => {\n",
              "      resolve(null);\n",
              "    };\n",
              "  });\n",
              "\n",
              "  // Wait for the user to pick the files.\n",
              "  const files = yield {\n",
              "    promise: Promise.race([pickedPromise, cancelPromise]),\n",
              "    response: {\n",
              "      action: 'starting',\n",
              "    }\n",
              "  };\n",
              "\n",
              "  cancel.remove();\n",
              "\n",
              "  // Disable the input element since further picks are not allowed.\n",
              "  inputElement.disabled = true;\n",
              "\n",
              "  if (!files) {\n",
              "    return {\n",
              "      response: {\n",
              "        action: 'complete',\n",
              "      }\n",
              "    };\n",
              "  }\n",
              "\n",
              "  for (const file of files) {\n",
              "    const li = document.createElement('li');\n",
              "    li.append(span(file.name, {fontWeight: 'bold'}));\n",
              "    li.append(span(\n",
              "        `(${file.type || 'n/a'}) - ${file.size} bytes, ` +\n",
              "        `last modified: ${\n",
              "            file.lastModifiedDate ? file.lastModifiedDate.toLocaleDateString() :\n",
              "                                    'n/a'} - `));\n",
              "    const percent = span('0% done');\n",
              "    li.appendChild(percent);\n",
              "\n",
              "    outputElement.appendChild(li);\n",
              "\n",
              "    const fileDataPromise = new Promise((resolve) => {\n",
              "      const reader = new FileReader();\n",
              "      reader.onload = (e) => {\n",
              "        resolve(e.target.result);\n",
              "      };\n",
              "      reader.readAsArrayBuffer(file);\n",
              "    });\n",
              "    // Wait for the data to be ready.\n",
              "    let fileData = yield {\n",
              "      promise: fileDataPromise,\n",
              "      response: {\n",
              "        action: 'continue',\n",
              "      }\n",
              "    };\n",
              "\n",
              "    // Use a chunked sending to avoid message size limits. See b/62115660.\n",
              "    let position = 0;\n",
              "    do {\n",
              "      const length = Math.min(fileData.byteLength - position, MAX_PAYLOAD_SIZE);\n",
              "      const chunk = new Uint8Array(fileData, position, length);\n",
              "      position += length;\n",
              "\n",
              "      const base64 = btoa(String.fromCharCode.apply(null, chunk));\n",
              "      yield {\n",
              "        response: {\n",
              "          action: 'append',\n",
              "          file: file.name,\n",
              "          data: base64,\n",
              "        },\n",
              "      };\n",
              "\n",
              "      let percentDone = fileData.byteLength === 0 ?\n",
              "          100 :\n",
              "          Math.round((position / fileData.byteLength) * 100);\n",
              "      percent.textContent = `${percentDone}% done`;\n",
              "\n",
              "    } while (position < fileData.byteLength);\n",
              "  }\n",
              "\n",
              "  // All done.\n",
              "  yield {\n",
              "    response: {\n",
              "      action: 'complete',\n",
              "    }\n",
              "  };\n",
              "}\n",
              "\n",
              "scope.google = scope.google || {};\n",
              "scope.google.colab = scope.google.colab || {};\n",
              "scope.google.colab._files = {\n",
              "  _uploadFiles,\n",
              "  _uploadFilesContinue,\n",
              "};\n",
              "})(self);\n",
              "</script> "
            ]
          },
          "metadata": {}
        },
        {
          "output_type": "stream",
          "name": "stdout",
          "text": [
            "Saving skripsi_pendahuluan.csv to skripsi_pendahuluan.csv\n"
          ]
        }
      ]
    },
    {
      "cell_type": "code",
      "source": [
        "with open('skripsi_pendahuluan.csv') as f:\n",
        "    print(f)"
      ],
      "metadata": {
        "colab": {
          "base_uri": "https://localhost:8080/"
        },
        "id": "CZi99up1qC0p",
        "outputId": "851cd436-270f-4db4-88dc-6b02b456157e"
      },
      "execution_count": 11,
      "outputs": [
        {
          "output_type": "stream",
          "name": "stdout",
          "text": [
            "<_io.TextIOWrapper name='skripsi_pendahuluan.csv' mode='r' encoding='UTF-8'>\n"
          ]
        }
      ]
    },
    {
      "cell_type": "code",
      "source": [
        "import io\n",
        "df = pd.read_csv('skripsi_pendahuluan.csv', index_col=0, sep=';', encoding='latin-1')\n"
      ],
      "metadata": {
        "id": "jox66MUKtdHd"
      },
      "execution_count": 12,
      "outputs": []
    },
    {
      "cell_type": "code",
      "metadata": {
        "id": "hm6pa5Af4qbE",
        "colab": {
          "base_uri": "https://localhost:8080/",
          "height": 238
        },
        "outputId": "a3b95eeb-40b9-415e-ca82-0d63760ea0ea"
      },
      "source": [
        "df.head()"
      ],
      "execution_count": 13,
      "outputs": [
        {
          "output_type": "execute_result",
          "data": {
            "text/plain": [
              "                                                skripsi_judul  \\\n",
              "skripsi_id                                                      \n",
              "1           SISTEM BERBASIS PENGETAHUAN UNTUK MENGIDENTIFI...   \n",
              "2            \\t\\nPEMROGRAMAN APLIKASI MOBILE BERBASIS ANDR...   \n",
              "3           APLIKASI PENGENALAN HAMA DAN PENYAKIT PADA TAN...   \n",
              "4           PEMETAAN LAHAN PERTANIAN TANAMAN ORGANIK DI WI...   \n",
              "5           Tehnologi Platfrom Virtualisasi Untuk Aplikasi...   \n",
              "\n",
              "                                                  skripsi_isi  \\\n",
              "skripsi_id                                                      \n",
              "1           Burung kenari (Serinus Canaria) adalah salah s...   \n",
              "2           Office of International Affairs (OIA) atau Kan...   \n",
              "3           Pertanian merupakan kegiatan pemanfaatan sumbe...   \n",
              "4           Struktur tanah daerah pegunungan di kecamatan ...   \n",
              "5           Pada jaman sekarang kebutuhan internet merupak...   \n",
              "\n",
              "                                 skripsi_link  \n",
              "skripsi_id                                     \n",
              "1           https://eprints.utdi.ac.id/7326/   \n",
              "2           https://eprints.utdi.ac.id/7287/   \n",
              "3            https://eprints.utdi.ac.id/7301/  \n",
              "4           https://eprints.utdi.ac.id/7242/   \n",
              "5           https://eprints.utdi.ac.id/7274/   "
            ],
            "text/html": [
              "\n",
              "  <div id=\"df-1a354d9e-884c-43f4-b555-a86a440e6222\">\n",
              "    <div class=\"colab-df-container\">\n",
              "      <div>\n",
              "<style scoped>\n",
              "    .dataframe tbody tr th:only-of-type {\n",
              "        vertical-align: middle;\n",
              "    }\n",
              "\n",
              "    .dataframe tbody tr th {\n",
              "        vertical-align: top;\n",
              "    }\n",
              "\n",
              "    .dataframe thead th {\n",
              "        text-align: right;\n",
              "    }\n",
              "</style>\n",
              "<table border=\"1\" class=\"dataframe\">\n",
              "  <thead>\n",
              "    <tr style=\"text-align: right;\">\n",
              "      <th></th>\n",
              "      <th>skripsi_judul</th>\n",
              "      <th>skripsi_isi</th>\n",
              "      <th>skripsi_link</th>\n",
              "    </tr>\n",
              "    <tr>\n",
              "      <th>skripsi_id</th>\n",
              "      <th></th>\n",
              "      <th></th>\n",
              "      <th></th>\n",
              "    </tr>\n",
              "  </thead>\n",
              "  <tbody>\n",
              "    <tr>\n",
              "      <th>1</th>\n",
              "      <td>SISTEM BERBASIS PENGETAHUAN UNTUK MENGIDENTIFI...</td>\n",
              "      <td>Burung kenari (Serinus Canaria) adalah salah s...</td>\n",
              "      <td>https://eprints.utdi.ac.id/7326/</td>\n",
              "    </tr>\n",
              "    <tr>\n",
              "      <th>2</th>\n",
              "      <td>\\t\\nPEMROGRAMAN APLIKASI MOBILE BERBASIS ANDR...</td>\n",
              "      <td>Office of International Affairs (OIA) atau Kan...</td>\n",
              "      <td>https://eprints.utdi.ac.id/7287/</td>\n",
              "    </tr>\n",
              "    <tr>\n",
              "      <th>3</th>\n",
              "      <td>APLIKASI PENGENALAN HAMA DAN PENYAKIT PADA TAN...</td>\n",
              "      <td>Pertanian merupakan kegiatan pemanfaatan sumbe...</td>\n",
              "      <td>https://eprints.utdi.ac.id/7301/</td>\n",
              "    </tr>\n",
              "    <tr>\n",
              "      <th>4</th>\n",
              "      <td>PEMETAAN LAHAN PERTANIAN TANAMAN ORGANIK DI WI...</td>\n",
              "      <td>Struktur tanah daerah pegunungan di kecamatan ...</td>\n",
              "      <td>https://eprints.utdi.ac.id/7242/</td>\n",
              "    </tr>\n",
              "    <tr>\n",
              "      <th>5</th>\n",
              "      <td>Tehnologi Platfrom Virtualisasi Untuk Aplikasi...</td>\n",
              "      <td>Pada jaman sekarang kebutuhan internet merupak...</td>\n",
              "      <td>https://eprints.utdi.ac.id/7274/</td>\n",
              "    </tr>\n",
              "  </tbody>\n",
              "</table>\n",
              "</div>\n",
              "      <button class=\"colab-df-convert\" onclick=\"convertToInteractive('df-1a354d9e-884c-43f4-b555-a86a440e6222')\"\n",
              "              title=\"Convert this dataframe to an interactive table.\"\n",
              "              style=\"display:none;\">\n",
              "        \n",
              "  <svg xmlns=\"http://www.w3.org/2000/svg\" height=\"24px\"viewBox=\"0 0 24 24\"\n",
              "       width=\"24px\">\n",
              "    <path d=\"M0 0h24v24H0V0z\" fill=\"none\"/>\n",
              "    <path d=\"M18.56 5.44l.94 2.06.94-2.06 2.06-.94-2.06-.94-.94-2.06-.94 2.06-2.06.94zm-11 1L8.5 8.5l.94-2.06 2.06-.94-2.06-.94L8.5 2.5l-.94 2.06-2.06.94zm10 10l.94 2.06.94-2.06 2.06-.94-2.06-.94-.94-2.06-.94 2.06-2.06.94z\"/><path d=\"M17.41 7.96l-1.37-1.37c-.4-.4-.92-.59-1.43-.59-.52 0-1.04.2-1.43.59L10.3 9.45l-7.72 7.72c-.78.78-.78 2.05 0 2.83L4 21.41c.39.39.9.59 1.41.59.51 0 1.02-.2 1.41-.59l7.78-7.78 2.81-2.81c.8-.78.8-2.07 0-2.86zM5.41 20L4 18.59l7.72-7.72 1.47 1.35L5.41 20z\"/>\n",
              "  </svg>\n",
              "      </button>\n",
              "      \n",
              "  <style>\n",
              "    .colab-df-container {\n",
              "      display:flex;\n",
              "      flex-wrap:wrap;\n",
              "      gap: 12px;\n",
              "    }\n",
              "\n",
              "    .colab-df-convert {\n",
              "      background-color: #E8F0FE;\n",
              "      border: none;\n",
              "      border-radius: 50%;\n",
              "      cursor: pointer;\n",
              "      display: none;\n",
              "      fill: #1967D2;\n",
              "      height: 32px;\n",
              "      padding: 0 0 0 0;\n",
              "      width: 32px;\n",
              "    }\n",
              "\n",
              "    .colab-df-convert:hover {\n",
              "      background-color: #E2EBFA;\n",
              "      box-shadow: 0px 1px 2px rgba(60, 64, 67, 0.3), 0px 1px 3px 1px rgba(60, 64, 67, 0.15);\n",
              "      fill: #174EA6;\n",
              "    }\n",
              "\n",
              "    [theme=dark] .colab-df-convert {\n",
              "      background-color: #3B4455;\n",
              "      fill: #D2E3FC;\n",
              "    }\n",
              "\n",
              "    [theme=dark] .colab-df-convert:hover {\n",
              "      background-color: #434B5C;\n",
              "      box-shadow: 0px 1px 3px 1px rgba(0, 0, 0, 0.15);\n",
              "      filter: drop-shadow(0px 1px 2px rgba(0, 0, 0, 0.3));\n",
              "      fill: #FFFFFF;\n",
              "    }\n",
              "  </style>\n",
              "\n",
              "      <script>\n",
              "        const buttonEl =\n",
              "          document.querySelector('#df-1a354d9e-884c-43f4-b555-a86a440e6222 button.colab-df-convert');\n",
              "        buttonEl.style.display =\n",
              "          google.colab.kernel.accessAllowed ? 'block' : 'none';\n",
              "\n",
              "        async function convertToInteractive(key) {\n",
              "          const element = document.querySelector('#df-1a354d9e-884c-43f4-b555-a86a440e6222');\n",
              "          const dataTable =\n",
              "            await google.colab.kernel.invokeFunction('convertToInteractive',\n",
              "                                                     [key], {});\n",
              "          if (!dataTable) return;\n",
              "\n",
              "          const docLinkHtml = 'Like what you see? Visit the ' +\n",
              "            '<a target=\"_blank\" href=https://colab.research.google.com/notebooks/data_table.ipynb>data table notebook</a>'\n",
              "            + ' to learn more about interactive tables.';\n",
              "          element.innerHTML = '';\n",
              "          dataTable['output_type'] = 'display_data';\n",
              "          await google.colab.output.renderOutput(dataTable, element);\n",
              "          const docLink = document.createElement('div');\n",
              "          docLink.innerHTML = docLinkHtml;\n",
              "          element.appendChild(docLink);\n",
              "        }\n",
              "      </script>\n",
              "    </div>\n",
              "  </div>\n",
              "  "
            ]
          },
          "metadata": {},
          "execution_count": 13
        }
      ]
    },
    {
      "cell_type": "markdown",
      "metadata": {
        "id": "Z66PfM1ILUOc"
      },
      "source": [
        "# Preprocessing the Data"
      ]
    },
    {
      "cell_type": "code",
      "metadata": {
        "id": "eZVoc3R6G9a8"
      },
      "source": [
        "# split the the text in the articles into sentences\n",
        "sentences = []\n",
        "for s in df['skripsi_isi']:\n",
        "  sentences.append(sent_tokenize(s))  "
      ],
      "execution_count": 14,
      "outputs": []
    },
    {
      "cell_type": "code",
      "metadata": {
        "id": "V_lwimHsHB9l"
      },
      "source": [
        "# flatten the list\n",
        "sentences = [y for x in sentences for y in x]\n",
        "# for x in sentences:\n",
        "#   for y in x:\n",
        "#     sentences.append(y)"
      ],
      "execution_count": 15,
      "outputs": []
    },
    {
      "cell_type": "code",
      "metadata": {
        "id": "iHvW8lKFHV1x",
        "colab": {
          "base_uri": "https://localhost:8080/"
        },
        "outputId": "51a49bbd-589e-4778-ed47-cab4e975e8bd"
      },
      "source": [
        "# remove punctuations, numbers and special characters\n",
        "clean_sentences = pd.Series(sentences).str.replace(\"[^a-zA-Z]\", \" \")\n",
        "\n",
        "# make alphabets lowercase\n",
        "clean_sentences = [s.lower() for s in clean_sentences]"
      ],
      "execution_count": 16,
      "outputs": [
        {
          "output_type": "stream",
          "name": "stderr",
          "text": [
            "<ipython-input-16-57e05bf8eb2b>:2: FutureWarning: The default value of regex will change from True to False in a future version.\n",
            "  clean_sentences = pd.Series(sentences).str.replace(\"[^a-zA-Z]\", \" \")\n"
          ]
        }
      ]
    },
    {
      "cell_type": "code",
      "metadata": {
        "id": "iPBZsdeWHlHf",
        "colab": {
          "base_uri": "https://localhost:8080/"
        },
        "outputId": "0b97ae76-4e21-4b64-ad61-a72b9b257438"
      },
      "source": [
        "nltk.download('stopwords')# one time execution"
      ],
      "execution_count": 17,
      "outputs": [
        {
          "output_type": "stream",
          "name": "stderr",
          "text": [
            "[nltk_data] Downloading package stopwords to /root/nltk_data...\n",
            "[nltk_data]   Unzipping corpora/stopwords.zip.\n"
          ]
        },
        {
          "output_type": "execute_result",
          "data": {
            "text/plain": [
              "True"
            ]
          },
          "metadata": {},
          "execution_count": 17
        }
      ]
    },
    {
      "cell_type": "code",
      "metadata": {
        "id": "UKk_3HZ-Idjm"
      },
      "source": [
        "from nltk.corpus import stopwords\n",
        "stop_words = stopwords.words('indonesian')"
      ],
      "execution_count": 18,
      "outputs": []
    },
    {
      "cell_type": "code",
      "metadata": {
        "id": "RX_NFApzIkmC"
      },
      "source": [
        "# function to remove stopwords\n",
        "def remove_stopwords(sen):\n",
        "  sen_new = \" \".join([i for i in sen if i not in stop_words])\n",
        "  return sen_new\n",
        "\n",
        "# for i in sen:\n",
        "#   if i not in stop_words:\n",
        "#     sen_new += i"
      ],
      "execution_count": 19,
      "outputs": []
    },
    {
      "cell_type": "code",
      "metadata": {
        "id": "OcFap_w9Ivob"
      },
      "source": [
        "# remove stopwords from the sentences\n",
        "clean_sentences = [remove_stopwords(r.split()) for r in clean_sentences]"
      ],
      "execution_count": 20,
      "outputs": []
    },
    {
      "cell_type": "markdown",
      "metadata": {
        "id": "EEdr7y2SLbZJ"
      },
      "source": [
        "# Downloading the word embeddings"
      ]
    },
    {
      "cell_type": "code",
      "metadata": {
        "id": "a5Skjq6DJUtQ",
        "colab": {
          "base_uri": "https://localhost:8080/"
        },
        "outputId": "c88893db-0849-41ae-dff4-867f3e34e97d"
      },
      "source": [
        "# download pretrained GloVe word embeddings\n",
        "! wget http://nlp.stanford.edu/data/glove.6B.zip"
      ],
      "execution_count": 21,
      "outputs": [
        {
          "output_type": "stream",
          "name": "stdout",
          "text": [
            "--2023-01-13 13:08:44--  http://nlp.stanford.edu/data/glove.6B.zip\n",
            "Resolving nlp.stanford.edu (nlp.stanford.edu)... 171.64.67.140\n",
            "Connecting to nlp.stanford.edu (nlp.stanford.edu)|171.64.67.140|:80... connected.\n",
            "HTTP request sent, awaiting response... 302 Found\n",
            "Location: https://nlp.stanford.edu/data/glove.6B.zip [following]\n",
            "--2023-01-13 13:08:44--  https://nlp.stanford.edu/data/glove.6B.zip\n",
            "Connecting to nlp.stanford.edu (nlp.stanford.edu)|171.64.67.140|:443... connected.\n",
            "HTTP request sent, awaiting response... 301 Moved Permanently\n",
            "Location: https://downloads.cs.stanford.edu/nlp/data/glove.6B.zip [following]\n",
            "--2023-01-13 13:08:45--  https://downloads.cs.stanford.edu/nlp/data/glove.6B.zip\n",
            "Resolving downloads.cs.stanford.edu (downloads.cs.stanford.edu)... 171.64.64.22\n",
            "Connecting to downloads.cs.stanford.edu (downloads.cs.stanford.edu)|171.64.64.22|:443... connected.\n",
            "HTTP request sent, awaiting response... 200 OK\n",
            "Length: 862182613 (822M) [application/zip]\n",
            "Saving to: ‘glove.6B.zip’\n",
            "\n",
            "glove.6B.zip        100%[===================>] 822.24M  5.04MB/s    in 2m 39s  \n",
            "\n",
            "2023-01-13 13:11:24 (5.17 MB/s) - ‘glove.6B.zip’ saved [862182613/862182613]\n",
            "\n"
          ]
        }
      ]
    },
    {
      "cell_type": "code",
      "metadata": {
        "id": "K_GXHzwDJq-2",
        "colab": {
          "base_uri": "https://localhost:8080/"
        },
        "outputId": "add00f14-3c01-448c-be78-2d7497431be0"
      },
      "source": [
        "! unzip glove*.zip"
      ],
      "execution_count": 22,
      "outputs": [
        {
          "output_type": "stream",
          "name": "stdout",
          "text": [
            "Archive:  glove.6B.zip\n",
            "  inflating: glove.6B.50d.txt        \n",
            "  inflating: glove.6B.100d.txt       \n",
            "  inflating: glove.6B.200d.txt       \n",
            "  inflating: glove.6B.300d.txt       \n"
          ]
        }
      ]
    },
    {
      "cell_type": "markdown",
      "metadata": {
        "id": "LFBkSZ17LkL3"
      },
      "source": [
        "# Extracting word vectors"
      ]
    },
    {
      "cell_type": "code",
      "metadata": {
        "id": "TsXIa7CBKsWQ"
      },
      "source": [
        "# Extract word vectors\n",
        "word_embeddings = {} # example {fox:.822455, .....}\n",
        "f = open('glove.6B.100d.txt', encoding='utf-8')\n",
        "for line in f:\n",
        "    values = line.split()\n",
        "    word = values[0]\n",
        "    coefs = np.asarray(values[1:], dtype='float32')\n",
        "    word_embeddings[word] = coefs\n",
        "f.close()"
      ],
      "execution_count": 23,
      "outputs": []
    },
    {
      "cell_type": "markdown",
      "metadata": {
        "id": "OevCPR-GLpJf"
      },
      "source": [
        "# Formation of sentence vectors"
      ]
    },
    {
      "cell_type": "code",
      "metadata": {
        "id": "N3VtdSPyKxUZ"
      },
      "source": [
        "sentence_vectors = []\n",
        "for i in clean_sentences:\n",
        "  if len(i) != 0:\n",
        "    v = sum([word_embeddings.get(w, np.zeros((100,))) for w in i.split()])/(len(i.split())+0.001)\n",
        "  else:\n",
        "    v = np.zeros((100,))\n",
        "  sentence_vectors.append(v)"
      ],
      "execution_count": 24,
      "outputs": []
    },
    {
      "cell_type": "code",
      "metadata": {
        "id": "e3Iww3I9LYhJ",
        "colab": {
          "base_uri": "https://localhost:8080/"
        },
        "outputId": "f5c5a5a7-19c6-4c3a-ee26-e1e8c9342da9"
      },
      "source": [
        "len(sentence_vectors)"
      ],
      "execution_count": 25,
      "outputs": [
        {
          "output_type": "execute_result",
          "data": {
            "text/plain": [
              "114"
            ]
          },
          "metadata": {},
          "execution_count": 25
        }
      ]
    },
    {
      "cell_type": "markdown",
      "metadata": {
        "id": "1bh9L2pqL3gp"
      },
      "source": [
        "# Finding similarities by using cosine similarity\n",
        "The next step is to find similarities among the sentences. We will use cosine similarity to find similarity between a pair of sentences. Let's create an empty similarity matrix for this task and populate it with cosine similarities of the sentences."
      ]
    },
    {
      "cell_type": "code",
      "metadata": {
        "id": "mm_fNZpOLxbM"
      },
      "source": [
        "# similarity matrix\n",
        "sim_mat = np.zeros([len(sentences), len(sentences)])"
      ],
      "execution_count": 26,
      "outputs": []
    },
    {
      "cell_type": "code",
      "metadata": {
        "id": "oVeHkvf0MO1j"
      },
      "source": [
        "from sklearn.metrics.pairwise import cosine_similarity"
      ],
      "execution_count": 27,
      "outputs": []
    },
    {
      "cell_type": "code",
      "metadata": {
        "id": "xTAAe-q3L4xM"
      },
      "source": [
        "for i in range(len(sentences)):\n",
        "  for j in range(len(sentences)):\n",
        "    if i != j:\n",
        "      sim_mat[i][j] = cosine_similarity(sentence_vectors[i].reshape(1,100), sentence_vectors[j].reshape(1,100))[0,0]"
      ],
      "execution_count": 28,
      "outputs": []
    },
    {
      "cell_type": "markdown",
      "metadata": {
        "id": "i14xr6HeL63Y"
      },
      "source": [
        "# Forming Graph from similarity Matrix"
      ]
    },
    {
      "cell_type": "code",
      "metadata": {
        "id": "CAQUnNRWL_tA",
        "colab": {
          "base_uri": "https://localhost:8080/"
        },
        "outputId": "9ce3dd26-16c5-4a61-ea12-65555e6fc6f4"
      },
      "source": [
        "import networkx as nx\n",
        "\n",
        "nx_graph = nx.from_numpy_array(sim_mat)\n",
        "scores = nx.pagerank_numpy(nx_graph)"
      ],
      "execution_count": 30,
      "outputs": [
        {
          "output_type": "stream",
          "name": "stderr",
          "text": [
            "<ipython-input-30-cd965fb3fc26>:4: DeprecationWarning: networkx.pagerank_numpy is deprecated and will be removed in NetworkX 3.0, use networkx.pagerank instead.\n",
            "  scores = nx.pagerank_numpy(nx_graph)\n"
          ]
        }
      ]
    },
    {
      "cell_type": "markdown",
      "metadata": {
        "id": "ze9zC0BpMDjP"
      },
      "source": [
        "# Sorting and printing Summary"
      ]
    },
    {
      "cell_type": "code",
      "metadata": {
        "id": "aQCcvT3yO5Xj"
      },
      "source": [
        "ranked_sentences = sorted(((scores[i],s) for i,s in enumerate(sentences)), reverse=True)"
      ],
      "execution_count": 31,
      "outputs": []
    },
    {
      "cell_type": "code",
      "metadata": {
        "id": "jwxtPBlgO_Gk",
        "colab": {
          "base_uri": "https://localhost:8080/"
        },
        "outputId": "67d7f3af-2bde-4b6a-d5a8-33c6da2b1745"
      },
      "source": [
        "# Specify number of sentences to form the summary\n",
        "sn = 10\n",
        "\n",
        "# Generate summary\n",
        "for i in range(sn):\n",
        "  print(f\"{i}.{ranked_sentences[i][1]}\")"
      ],
      "execution_count": 34,
      "outputs": [
        {
          "output_type": "stream",
          "name": "stdout",
          "text": [
            "0.Ilmu itu meliputi tanaman dan cara perawatannya, lahan, pengairan, dan bahkan\n",
            "metode pemasaran hasil pertanian.\n",
            "1.Pracaya\n",
            "(1999: 1) menyatakan untuk bisa berhasil petani perlu tahu ilmu bercocok tanam.\n",
            "2.Yang terakhir,\n",
            "metode pemasaran hasil pertanian, faktor ini menjadi indikator apakah sebuah\n",
            "proses kegiatan pertanian ini berhasil atau tidak.\n",
            "3.Saat hasil melebihi biaya\n",
            "perawatan, kegiatan pertanian dikatakan berhasil, begitu pula sebaliknya.\n",
            "4.Sistem pertanian organik adalah suatu sistem\n",
            "produksi pertanian dimana bahan organik, baik makhluk hidup maupun yang\n",
            "sudah mati, merupakan faktor penting dalam proses produksi.\n",
            "5.Berdasarkan permasalahan tersebut dibutuhkan aplikasi yang bertujuan\n",
            "untuk mempermudah pembeli hasil panen atau yang disebut sebagai pengepul\n",
            "dalam melihat lahan pertanian organik yang berada dikecamatan Kokap.\n",
            "6.Tak ayal saat ini sangat banyak hobis kicauan yang\n",
            "berbondong-bondong mencari dan merawat calon-calon burung kenari yang akan\n",
            "diperlombakan.\n",
            "7.Dari situlah timbul kesempatan peluang untuk\n",
            "mencoba beternak burung kenari.\n",
            "8.Hasil dari perkebunan yang melimpah belum mampu mencukupi\n",
            "permintaan pasar, sehingga banyak pengepul yang datang langsung untuk\n",
            "membeli hasil panen dari petani.\n",
            "9.Untuk menggeluti dunia pertanian memang bukan hal yang mudah.\n"
          ]
        }
      ]
    },
    {
      "cell_type": "markdown",
      "metadata": {
        "id": "Fc1JXVdMMJqX"
      },
      "source": [
        "# End"
      ]
    }
  ]
}